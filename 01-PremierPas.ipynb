{
 "cells": [
  {
   "cell_type": "markdown",
   "id": "b8417107-e9f2-4f9d-aade-deedd5473ddb",
   "metadata": {},
   "source": [
    "# Premiers pas en python"
   ]
  },
  {
   "cell_type": "code",
   "execution_count": 1,
   "id": "a294d0d9-837d-4fa1-8fa2-432b683b4cf4",
   "metadata": {},
   "outputs": [],
   "source": [
    "import operator\n",
    "import pandas as pd"
   ]
  },
  {
   "cell_type": "markdown",
   "id": "dddf88f7-e2a7-40a6-ae9a-fbbd2028f4be",
   "metadata": {},
   "source": [
    "## 1. Données numeriques\n",
    "- Entiers: int\n",
    "- Décimaux: float"
   ]
  },
  {
   "cell_type": "code",
   "execution_count": 2,
   "id": "d2848d19-827f-4a53-930a-b6e48b94d1fb",
   "metadata": {},
   "outputs": [
    {
     "data": {
      "text/plain": [
       "15"
      ]
     },
     "execution_count": 2,
     "metadata": {},
     "output_type": "execute_result"
    }
   ],
   "source": [
    "nbJoueurs = 15\n",
    "nbJoueurs"
   ]
  },
  {
   "cell_type": "code",
   "execution_count": 3,
   "id": "51cc8638-e22e-41ee-92bf-eea1257cb76c",
   "metadata": {},
   "outputs": [
    {
     "data": {
      "text/plain": [
       "23"
      ]
     },
     "execution_count": 3,
     "metadata": {},
     "output_type": "execute_result"
    }
   ],
   "source": [
    "nbJoueurs + 8"
   ]
  },
  {
   "cell_type": "code",
   "execution_count": 4,
   "id": "f94d2e23-d24c-4aaa-a55e-b20d21437afc",
   "metadata": {},
   "outputs": [
    {
     "data": {
      "text/plain": [
       "30"
      ]
     },
     "execution_count": 4,
     "metadata": {},
     "output_type": "execute_result"
    }
   ],
   "source": [
    "nbTotal = nbJoueurs * 2\n",
    "nbTotal"
   ]
  },
  {
   "cell_type": "code",
   "execution_count": 5,
   "id": "186b2203-b13e-4022-9b08-3c02154f1997",
   "metadata": {},
   "outputs": [
    {
     "data": {
      "text/plain": [
       "15.0"
      ]
     },
     "execution_count": 5,
     "metadata": {},
     "output_type": "execute_result"
    }
   ],
   "source": [
    "nbTotal / 2"
   ]
  },
  {
   "cell_type": "code",
   "execution_count": 6,
   "id": "f76c7577-eeaf-4feb-9556-386839daf08b",
   "metadata": {},
   "outputs": [
    {
     "data": {
      "text/plain": [
       "7"
      ]
     },
     "execution_count": 6,
     "metadata": {},
     "output_type": "execute_result"
    }
   ],
   "source": [
    "nbJoueurs = 7\n",
    "nbJoueurs"
   ]
  },
  {
   "cell_type": "code",
   "execution_count": 7,
   "id": "6039ea4e-cfac-4c53-b9df-ba051f72575d",
   "metadata": {},
   "outputs": [
    {
     "data": {
      "text/plain": [
       "int"
      ]
     },
     "execution_count": 7,
     "metadata": {},
     "output_type": "execute_result"
    }
   ],
   "source": [
    "type(nbJoueurs)"
   ]
  },
  {
   "cell_type": "code",
   "execution_count": 8,
   "id": "5530add0-8969-434c-a9e2-1f47a310b58a",
   "metadata": {},
   "outputs": [
    {
     "data": {
      "text/plain": [
       "43.5"
      ]
     },
     "execution_count": 8,
     "metadata": {},
     "output_type": "execute_result"
    }
   ],
   "source": [
    "pourcentagePossession = 43.5\n",
    "pourcentagePossession"
   ]
  },
  {
   "cell_type": "code",
   "execution_count": 9,
   "id": "93bd4950-47b2-4d3b-88a6-92d985cd121a",
   "metadata": {},
   "outputs": [
    {
     "data": {
      "text/plain": [
       "float"
      ]
     },
     "execution_count": 9,
     "metadata": {},
     "output_type": "execute_result"
    }
   ],
   "source": [
    "type(pourcentagePossession)"
   ]
  },
  {
   "cell_type": "code",
   "execution_count": 10,
   "id": "34ee514f-05d5-427d-a5cc-3b60236d1081",
   "metadata": {},
   "outputs": [
    {
     "data": {
      "text/plain": [
       "2.456e-12"
      ]
     },
     "execution_count": 10,
     "metadata": {},
     "output_type": "execute_result"
    }
   ],
   "source": [
    "miniDistance = 2.456E-12\n",
    "miniDistance"
   ]
  },
  {
   "cell_type": "code",
   "execution_count": 11,
   "id": "39080c22-12c4-4223-976c-9ffc6e342dad",
   "metadata": {},
   "outputs": [
    {
     "data": {
      "text/plain": [
       "40.8"
      ]
     },
     "execution_count": 11,
     "metadata": {},
     "output_type": "execute_result"
    }
   ],
   "source": [
    "12 * 3.4"
   ]
  },
  {
   "cell_type": "code",
   "execution_count": 12,
   "id": "b10bc7e6-4a32-4d8a-ae35-9dab399497fe",
   "metadata": {},
   "outputs": [
    {
     "data": {
      "text/plain": [
       "2.456e-12"
      ]
     },
     "execution_count": 12,
     "metadata": {},
     "output_type": "execute_result"
    }
   ],
   "source": [
    "miniDistance"
   ]
  },
  {
   "cell_type": "markdown",
   "id": "6fbc6816-84e8-4608-a1bb-14f121baf395",
   "metadata": {},
   "source": [
    "## 2. Booléens et tests\n",
    "- comparaison d'égalité: ==   !=\n",
    "- comparaisons d'ordre: <  <=  >  >=\n",
    "- combinaison logique: and  or  not"
   ]
  },
  {
   "cell_type": "code",
   "execution_count": 13,
   "id": "b6915688-42a6-43a1-91be-24c7de8aade6",
   "metadata": {},
   "outputs": [
    {
     "data": {
      "text/plain": [
       "False"
      ]
     },
     "execution_count": 13,
     "metadata": {},
     "output_type": "execute_result"
    }
   ],
   "source": [
    "nbJoueurs > 10"
   ]
  },
  {
   "cell_type": "code",
   "execution_count": 14,
   "id": "c57e54ee-0702-4ba2-ac9f-a8ae261780cc",
   "metadata": {},
   "outputs": [
    {
     "data": {
      "text/plain": [
       "True"
      ]
     },
     "execution_count": 14,
     "metadata": {},
     "output_type": "execute_result"
    }
   ],
   "source": [
    "nbJoueurs <= 7"
   ]
  },
  {
   "cell_type": "code",
   "execution_count": 15,
   "id": "1014f746-e527-4c10-a573-14c3464f6888",
   "metadata": {},
   "outputs": [
    {
     "data": {
      "text/plain": [
       "True"
      ]
     },
     "execution_count": 15,
     "metadata": {},
     "output_type": "execute_result"
    }
   ],
   "source": [
    "nbJoueurs == 7"
   ]
  },
  {
   "cell_type": "code",
   "execution_count": 16,
   "id": "24bd4792-23b5-4050-a77e-1c7aca3c39ba",
   "metadata": {},
   "outputs": [
    {
     "data": {
      "text/plain": [
       "False"
      ]
     },
     "execution_count": 16,
     "metadata": {},
     "output_type": "execute_result"
    }
   ],
   "source": [
    "nbJoueurs != 7"
   ]
  },
  {
   "cell_type": "code",
   "execution_count": 17,
   "id": "e231fd18-a9f5-45fb-94af-22e81c60c3eb",
   "metadata": {},
   "outputs": [],
   "source": [
    "nbJoueurs1 = 23\n",
    "nbJoueurs2 = 22\n",
    "nb_joueurs3 = 23"
   ]
  },
  {
   "cell_type": "code",
   "execution_count": 18,
   "id": "9b62183e-766d-4e6b-8d69-5e9c7ab87833",
   "metadata": {},
   "outputs": [
    {
     "data": {
      "text/plain": [
       "False"
      ]
     },
     "execution_count": 18,
     "metadata": {},
     "output_type": "execute_result"
    }
   ],
   "source": [
    "nbJoueurs1 == 23 and nbJoueurs2 == 23"
   ]
  },
  {
   "cell_type": "code",
   "execution_count": 19,
   "id": "bdb116c6-d44d-42dc-970e-5fdbfeec32f1",
   "metadata": {},
   "outputs": [],
   "source": [
    "club = \"Castres Olympique\""
   ]
  },
  {
   "cell_type": "code",
   "execution_count": 20,
   "id": "961aed5e-2adc-44ff-b939-5a69e00c2915",
   "metadata": {},
   "outputs": [
    {
     "data": {
      "text/plain": [
       "False"
      ]
     },
     "execution_count": 20,
     "metadata": {},
     "output_type": "execute_result"
    }
   ],
   "source": [
    "club.islower()"
   ]
  },
  {
   "cell_type": "code",
   "execution_count": 21,
   "id": "09484273-b425-4c5d-ba54-8c8719a94029",
   "metadata": {},
   "outputs": [
    {
     "data": {
      "text/plain": [
       "True"
      ]
     },
     "execution_count": 21,
     "metadata": {},
     "output_type": "execute_result"
    }
   ],
   "source": [
    "not club.islower()"
   ]
  },
  {
   "cell_type": "markdown",
   "id": "7c9d7da8-8eda-468f-a091-18f8abf8a1c5",
   "metadata": {},
   "source": [
    "## 3. Texte\n",
    "type: str\n",
    "\n",
    "NB: faire une fonction acronyme, Montpellier Hérault Rugby => MHR "
   ]
  },
  {
   "cell_type": "code",
   "execution_count": 22,
   "id": "8cefe685-8ce7-409a-9d17-7826a3d8c2b0",
   "metadata": {},
   "outputs": [],
   "source": [
    "club1 = \"Castres Olympique\"\n",
    "club2 = 'Montpellier Hérault Rugby'"
   ]
  },
  {
   "cell_type": "code",
   "execution_count": 23,
   "id": "55f22df3-2c69-4cc9-8816-7ab99139bb23",
   "metadata": {},
   "outputs": [
    {
     "data": {
      "text/plain": [
       "'Castres Olympique'"
      ]
     },
     "execution_count": 23,
     "metadata": {},
     "output_type": "execute_result"
    }
   ],
   "source": [
    "club1"
   ]
  },
  {
   "cell_type": "code",
   "execution_count": 24,
   "id": "3713de25-0811-46f3-85ef-e8174e2d7818",
   "metadata": {},
   "outputs": [
    {
     "name": "stdout",
     "output_type": "stream",
     "text": [
      "castres olympique\n",
      "CASTRES OLYMPIQUE\n",
      "True\n",
      "False\n",
      "True\n"
     ]
    }
   ],
   "source": [
    "print(club1.lower())\n",
    "print(club1.upper())\n",
    "print(club1.startswith('Castres'))\n",
    "print('Hérault' in club1)\n",
    "print('Hérault' in club2)"
   ]
  },
  {
   "cell_type": "code",
   "execution_count": 25,
   "id": "a282e49a-37ce-4c65-80b6-b10f11b2ce29",
   "metadata": {},
   "outputs": [
    {
     "name": "stdout",
     "output_type": "stream",
     "text": [
      "Castres Olympique Montpellier Hérault Rugby castres olympique Rugby\n"
     ]
    }
   ],
   "source": [
    "print(club1, club2, club1.lower(), \"Rugby\")"
   ]
  },
  {
   "cell_type": "markdown",
   "id": "85f66cb4-c6a6-4dfa-bc68-eaf484c0bb1c",
   "metadata": {},
   "source": [
    "## 4. Sequence: listes, tuples, ensembles ; Dictionnaires\n",
    "### 4.1 Listes"
   ]
  },
  {
   "cell_type": "code",
   "execution_count": 26,
   "id": "e0bf221f-3780-4756-8c00-a98c18c86806",
   "metadata": {},
   "outputs": [
    {
     "data": {
      "text/plain": [
       "['Castres Olympique',\n",
       " 'Montpellier Hérault Rugby',\n",
       " 'Union Bordeaux Bègles',\n",
       " 'US Carcassonne',\n",
       " 'RC Suresnes',\n",
       " 'Stade Toulousain',\n",
       " 'Section Paloise']"
      ]
     },
     "execution_count": 26,
     "metadata": {},
     "output_type": "execute_result"
    }
   ],
   "source": [
    "clubs = [ \n",
    "    \"Castres Olympique\",\n",
    "    \"Montpellier Hérault Rugby\",\n",
    "    \"Union Bordeaux Bègles\",\n",
    "    \"US Carcassonne\",\n",
    "    \"RC Suresnes\",\n",
    "    \"Stade Toulousain\",\n",
    "    \"Section Paloise\"\n",
    "]\n",
    "clubs"
   ]
  },
  {
   "cell_type": "code",
   "execution_count": 27,
   "id": "63be94e0-ade8-43f5-8c14-9b17dca7305b",
   "metadata": {},
   "outputs": [
    {
     "data": {
      "text/plain": [
       "list"
      ]
     },
     "execution_count": 27,
     "metadata": {},
     "output_type": "execute_result"
    }
   ],
   "source": [
    "type(clubs)"
   ]
  },
  {
   "cell_type": "code",
   "execution_count": 28,
   "id": "3ddc9352-837a-49e8-88fe-91de1c4e6960",
   "metadata": {},
   "outputs": [
    {
     "name": "stdout",
     "output_type": "stream",
     "text": [
      "Nb de clubs : 7\n",
      "Nb de lettres du club 1 : 17\n"
     ]
    }
   ],
   "source": [
    "print(\"Nb de clubs :\", len(clubs))\n",
    "print(\"Nb de lettres du club 1 :\", len(club1))"
   ]
  },
  {
   "cell_type": "code",
   "execution_count": 29,
   "id": "b8571811-74eb-48fb-9cce-300b64f0ccf7",
   "metadata": {},
   "outputs": [
    {
     "name": "stdout",
     "output_type": "stream",
     "text": [
      "1er club : Castres Olympique\n",
      "dernier club : Section Paloise\n",
      "dernier club : Section Paloise\n",
      "dernier club : Section Paloise\n"
     ]
    }
   ],
   "source": [
    "# club à la position 0 dans la liste\n",
    "print(\"1er club :\", clubs[0])\n",
    "print(\"dernier club :\", clubs[6])\n",
    "print(\"dernier club :\", clubs[len(clubs) - 1])\n",
    "print(\"dernier club :\", clubs[-1])"
   ]
  },
  {
   "cell_type": "code",
   "execution_count": 30,
   "id": "3ac3da7a-53ca-4eb7-99ec-1c4d4dc05eb9",
   "metadata": {},
   "outputs": [
    {
     "name": "stdout",
     "output_type": "stream",
     "text": [
      "3 premiers: ['Castres Olympique', 'Montpellier Hérault Rugby', 'Union Bordeaux Bègles']\n",
      "3 premiers: ['Castres Olympique', 'Montpellier Hérault Rugby', 'Union Bordeaux Bègles']\n",
      "3 derniers: ['RC Suresnes', 'Stade Toulousain', 'Section Paloise']\n"
     ]
    }
   ],
   "source": [
    "# slices: indice min inclus à indice max exclus \n",
    "print(\"3 premiers:\", clubs[0:3])\n",
    "print(\"3 premiers:\", clubs[:3])\n",
    "print(\"3 derniers:\", clubs[-3:])"
   ]
  },
  {
   "cell_type": "code",
   "execution_count": 31,
   "id": "0a7d56b9-17f9-403e-969e-ea998742d4f9",
   "metadata": {},
   "outputs": [
    {
     "name": "stdout",
     "output_type": "stream",
     "text": [
      "Deborder par le haut: ['RC Suresnes', 'Stade Toulousain', 'Section Paloise']\n",
      "Hors liste: []\n",
      "Indices qui se croisent: []\n"
     ]
    }
   ],
   "source": [
    "# slices étranges\n",
    "print(\"Deborder par le haut:\", clubs[4:15])\n",
    "print(\"Hors liste:\", clubs[12:15])\n",
    "print(\"Indices qui se croisent:\", clubs[5:2])"
   ]
  },
  {
   "cell_type": "code",
   "execution_count": 32,
   "id": "3d08db1b-55fa-4a27-8dfb-8e5ba92675df",
   "metadata": {},
   "outputs": [
    {
     "data": {
      "text/plain": [
       "'Castres'"
      ]
     },
     "execution_count": 32,
     "metadata": {},
     "output_type": "execute_result"
    }
   ],
   "source": [
    "# slices sur un texte\n",
    "club1[:7]"
   ]
  },
  {
   "cell_type": "code",
   "execution_count": 33,
   "id": "d3b05057-43b4-41dc-81f4-0d318faee738",
   "metadata": {},
   "outputs": [
    {
     "data": {
      "text/plain": [
       "['Castres Olympique',\n",
       " 'Montpellier Hérault Rugby',\n",
       " 'RC Suresnes',\n",
       " 'Section Paloise',\n",
       " 'Stade Toulousain',\n",
       " 'US Carcassonne',\n",
       " 'Union Bordeaux Bègles']"
      ]
     },
     "execution_count": 33,
     "metadata": {},
     "output_type": "execute_result"
    }
   ],
   "source": [
    "# TODO: trier en français, trier en majuscule\n",
    "clubsTrieAlpha = sorted(clubs)\n",
    "clubsTrieAlpha"
   ]
  },
  {
   "cell_type": "code",
   "execution_count": 34,
   "id": "b812f6e8-1ff2-4b7d-9048-2fc47c028d50",
   "metadata": {},
   "outputs": [
    {
     "data": {
      "text/plain": [
       "['Union Bordeaux Bègles',\n",
       " 'US Carcassonne',\n",
       " 'Stade Toulousain',\n",
       " 'Section Paloise',\n",
       " 'RC Suresnes',\n",
       " 'Montpellier Hérault Rugby',\n",
       " 'Castres Olympique']"
      ]
     },
     "execution_count": 34,
     "metadata": {},
     "output_type": "execute_result"
    }
   ],
   "source": [
    "# Passage de paramètre de la fonction sorted:\n",
    "# - clubs : paramètre par position\n",
    "# - reverse=True: paramètre par keyword\n",
    "\n",
    "clubsTrieAlphaDesc = sorted(clubs, reverse=True)\n",
    "clubsTrieAlphaDesc"
   ]
  },
  {
   "cell_type": "code",
   "execution_count": 35,
   "id": "86c59a25-1acb-414a-a557-9a37fe9c54fe",
   "metadata": {},
   "outputs": [
    {
     "name": "stdout",
     "output_type": "stream",
     "text": [
      "['Castres Olympique', 'Montpellier Hérault Rugby', 'RC Suresnes', 'Section Paloise', 'Stade Toulousain', 'US Carcassonne', 'Union Bordeaux Bègles']\n"
     ]
    }
   ],
   "source": [
    "# tri en place (inplace)\n",
    "clubs.sort()\n",
    "print(clubs)"
   ]
  },
  {
   "cell_type": "code",
   "execution_count": 36,
   "id": "5e6cc96f-a65c-43bf-be8b-6d4a3b58c9b9",
   "metadata": {},
   "outputs": [
    {
     "data": {
      "text/plain": [
       "['Union Bordeaux Bègles',\n",
       " 'US Carcassonne',\n",
       " 'Stade Toulousain',\n",
       " 'Section Paloise',\n",
       " 'RC Suresnes',\n",
       " 'Montpellier Hérault Rugby',\n",
       " 'Castres Olympique']"
      ]
     },
     "execution_count": 36,
     "metadata": {},
     "output_type": "execute_result"
    }
   ],
   "source": [
    "# tri avec un résultat dans une nouvelle liste\n",
    "# avec option reverse=True pour tri décroissant\n",
    "club_sorted_alpha = sorted(clubs, reverse=True)\n",
    "club_sorted_alpha"
   ]
  },
  {
   "cell_type": "markdown",
   "id": "8cc9dece-d181-4d2a-84a8-107abaf53a7d",
   "metadata": {},
   "source": [
    "### 4.2 Boucles"
   ]
  },
  {
   "cell_type": "code",
   "execution_count": 37,
   "id": "838c705a-87bc-4bed-a464-b0e9267faecd",
   "metadata": {},
   "outputs": [
    {
     "name": "stdout",
     "output_type": "stream",
     "text": [
      "7 clubs :\n",
      "- Club: Castres Olympique\n",
      "\t nom minuscule: castres olympique\n",
      "\t nom majuscule: CASTRES OLYMPIQUE\n",
      "- Club: Montpellier Hérault Rugby\n",
      "\t nom minuscule: montpellier hérault rugby\n",
      "\t nom majuscule: MONTPELLIER HÉRAULT RUGBY\n",
      "- Club: RC Suresnes\n",
      "\t nom minuscule: rc suresnes\n",
      "\t nom majuscule: RC SURESNES\n",
      "- Club: Section Paloise\n",
      "\t nom minuscule: section paloise\n",
      "\t nom majuscule: SECTION PALOISE\n",
      "- Club: Stade Toulousain\n",
      "\t nom minuscule: stade toulousain\n",
      "\t nom majuscule: STADE TOULOUSAIN\n",
      "- Club: US Carcassonne\n",
      "\t nom minuscule: us carcassonne\n",
      "\t nom majuscule: US CARCASSONNE\n",
      "- Club: Union Bordeaux Bègles\n",
      "\t nom minuscule: union bordeaux bègles\n",
      "\t nom majuscule: UNION BORDEAUX BÈGLES\n"
     ]
    }
   ],
   "source": [
    "# clubs : donnée à parcourir\n",
    "# club : variable de parcours\n",
    "print(len(clubs), \"clubs :\")\n",
    "for club in clubs:\n",
    "    print(\"- Club:\", club)\n",
    "    print(\"\\t nom minuscule:\", club.lower())\n",
    "    print(\"\\t nom majuscule:\", club.upper())"
   ]
  },
  {
   "cell_type": "code",
   "execution_count": 38,
   "id": "067aa6b7-0074-45d9-a603-03d909878fe8",
   "metadata": {},
   "outputs": [],
   "source": [
    "variable_vide = None"
   ]
  },
  {
   "cell_type": "code",
   "execution_count": 39,
   "id": "00de1e65-5c5f-4867-ad89-465c0bde8870",
   "metadata": {},
   "outputs": [
    {
     "data": {
      "text/plain": [
       "NoneType"
      ]
     },
     "execution_count": 39,
     "metadata": {},
     "output_type": "execute_result"
    }
   ],
   "source": [
    "type(variable_vide)"
   ]
  },
  {
   "cell_type": "code",
   "execution_count": 40,
   "id": "22958187-3aca-4a57-9060-10ef9d412cba",
   "metadata": {},
   "outputs": [],
   "source": [
    "# None ne sait rien faire\n",
    "#\n",
    "# AttributeError: 'NoneType' object has no attribute 'sort'\n",
    "# variable_vide.sort()"
   ]
  },
  {
   "cell_type": "code",
   "execution_count": 41,
   "id": "7f85ab8f-fef8-4952-833d-a07ee16d773e",
   "metadata": {},
   "outputs": [
    {
     "data": {
      "text/plain": [
       "True"
      ]
     },
     "execution_count": 41,
     "metadata": {},
     "output_type": "execute_result"
    }
   ],
   "source": [
    "variable_vide is None"
   ]
  },
  {
   "cell_type": "code",
   "execution_count": 42,
   "id": "dc7ad0a3-c631-4114-bc14-2fd7dbb78287",
   "metadata": {},
   "outputs": [
    {
     "data": {
      "text/plain": [
       "False"
      ]
     },
     "execution_count": 42,
     "metadata": {},
     "output_type": "execute_result"
    }
   ],
   "source": [
    "variable_vide is not None"
   ]
  },
  {
   "cell_type": "markdown",
   "id": "f3e0ffc2-a518-4b2a-aae1-bc92747098c1",
   "metadata": {},
   "source": [
    "### 4.3 Liste à 2 niveaux"
   ]
  },
  {
   "cell_type": "code",
   "execution_count": 43,
   "id": "bd3f4a3d-2340-440d-8cf7-edadb1d6044a",
   "metadata": {},
   "outputs": [
    {
     "data": {
      "text/plain": [
       "[['Union Bordeaux Bègles', 'TOP 14'],\n",
       " ['US Carcassonne', 'Pro D2'],\n",
       " ['Stade Toulousain', 'TOP 14'],\n",
       " ['Section Paloise', 'TOP 14'],\n",
       " ['RC Suresnes', 'Nationale'],\n",
       " ['Montpellier Hérault Rugby', 'TOP 14'],\n",
       " ['Castres Olympique', 'TOP 14']]"
      ]
     },
     "execution_count": 43,
     "metadata": {},
     "output_type": "execute_result"
    }
   ],
   "source": [
    "liste_clubs_niveaux = [\n",
    " ['Union Bordeaux Bègles', 'TOP 14'],\n",
    " ['US Carcassonne', 'Pro D2'],\n",
    " ['Stade Toulousain', 'TOP 14'],\n",
    " ['Section Paloise', 'TOP 14'],\n",
    " ['RC Suresnes', 'Nationale'],\n",
    " ['Montpellier Hérault Rugby', 'TOP 14'],\n",
    " ['Castres Olympique', 'TOP 14']\n",
    "]\n",
    "liste_clubs_niveaux"
   ]
  },
  {
   "cell_type": "code",
   "execution_count": 44,
   "id": "d0dd6069-0c96-462f-bf7e-82a76931329a",
   "metadata": {},
   "outputs": [
    {
     "name": "stdout",
     "output_type": "stream",
     "text": [
      "Club : Union Bordeaux Bègles  ; niveau : TOP 14\n",
      "Club : US Carcassonne  ; niveau : Pro D2\n",
      "Club : Stade Toulousain  ; niveau : TOP 14\n",
      "Club : Section Paloise  ; niveau : TOP 14\n",
      "Club : RC Suresnes  ; niveau : Nationale\n",
      "Club : Montpellier Hérault Rugby  ; niveau : TOP 14\n",
      "Club : Castres Olympique  ; niveau : TOP 14\n"
     ]
    }
   ],
   "source": [
    "for club in liste_clubs_niveaux:\n",
    "    # print(club)\n",
    "    print(\"Club :\", club[0], \" ; niveau :\", club[1])  "
   ]
  },
  {
   "cell_type": "code",
   "execution_count": 45,
   "id": "1f0e9fc9-16f3-43c3-aaeb-7907aef57636",
   "metadata": {},
   "outputs": [
    {
     "name": "stdout",
     "output_type": "stream",
     "text": [
      "Club : Union Bordeaux Bègles  ; niveau : TOP 14\n",
      "Club : US Carcassonne  ; niveau : Pro D2\n",
      "Club : Stade Toulousain  ; niveau : TOP 14\n",
      "Club : Section Paloise  ; niveau : TOP 14\n",
      "Club : RC Suresnes  ; niveau : Nationale\n",
      "Club : Montpellier Hérault Rugby  ; niveau : TOP 14\n",
      "Club : Castres Olympique  ; niveau : TOP 14\n"
     ]
    }
   ],
   "source": [
    "# parcours avec 2 variables de parcours car 2 valeurs dans chaque sous-liste\n",
    "for nom, niveau in liste_clubs_niveaux:\n",
    "    # print(club)\n",
    "    print(\"Club :\", nom, \" ; niveau :\", niveau) "
   ]
  },
  {
   "cell_type": "code",
   "execution_count": 46,
   "id": "4dcdab8d-393d-44d9-bc5f-3d296e5ad2bf",
   "metadata": {},
   "outputs": [
    {
     "data": {
      "text/plain": [
       "['Union Bordeaux Bègles',\n",
       " 'Stade Toulousain',\n",
       " 'Section Paloise',\n",
       " 'Montpellier Hérault Rugby',\n",
       " 'Castres Olympique']"
      ]
     },
     "execution_count": 46,
     "metadata": {},
     "output_type": "execute_result"
    }
   ],
   "source": [
    "# Extraire les clubs de niveau TOP 14\n",
    "clubs_top14 = []\n",
    "for nom, niveau in liste_clubs_niveaux:\n",
    "    if niveau == 'TOP 14':\n",
    "        clubs_top14.append(nom)\n",
    "    # end if\n",
    "# end for\n",
    "clubs_top14"
   ]
  },
  {
   "cell_type": "code",
   "execution_count": 47,
   "id": "38b8e3e8-a5ce-4f14-9009-1126bd3b3693",
   "metadata": {},
   "outputs": [
    {
     "name": "stdout",
     "output_type": "stream",
     "text": [
      "Club commençant par un 'S' : Stade Toulousain\n",
      "Club commençant par un 'S' : Section Paloise\n"
     ]
    }
   ],
   "source": [
    "for club in clubs_top14:\n",
    "    if club.startswith('S'):\n",
    "        print(\"Club commençant par un 'S' :\", club)"
   ]
  },
  {
   "cell_type": "code",
   "execution_count": 48,
   "id": "3ad233e3-5484-4224-ab17-45881dcfa956",
   "metadata": {},
   "outputs": [
    {
     "data": {
      "text/plain": [
       "[['Union Bordeaux Bègles', 'TOP 14'],\n",
       " ['US Carcassonne', 'Pro D2'],\n",
       " ['Stade Toulousain', 'TOP 14'],\n",
       " ['Section Paloise', 'TOP 14'],\n",
       " ['RC Suresnes', 'Nationale'],\n",
       " ['Montpellier Hérault Rugby', 'TOP 14'],\n",
       " ['Castres Olympique', 'TOP 14']]"
      ]
     },
     "execution_count": 48,
     "metadata": {},
     "output_type": "execute_result"
    }
   ],
   "source": [
    "liste_clubs_niveaux"
   ]
  },
  {
   "cell_type": "code",
   "execution_count": 49,
   "id": "d2b63179-bfc0-445d-b265-c8b66b14c380",
   "metadata": {},
   "outputs": [
    {
     "name": "stdout",
     "output_type": "stream",
     "text": [
      "Club du Top 14 commençant par un 'U' : Union Bordeaux Bègles ( TOP 14 )\n"
     ]
    }
   ],
   "source": [
    "for nom, niveau in liste_clubs_niveaux:\n",
    "    if nom.startswith('U') and niveau == 'TOP 14':\n",
    "        print(\"Club du Top 14 commençant par un 'U' :\", nom, \"(\", niveau, \")\") "
   ]
  },
  {
   "cell_type": "code",
   "execution_count": 50,
   "id": "b5694274-5a92-46c5-b49e-03f9b6564b5b",
   "metadata": {},
   "outputs": [
    {
     "name": "stdout",
     "output_type": "stream",
     "text": [
      "Club du Top 14 ou commençant par un 'U' : Union Bordeaux Bègles ( TOP 14 )\n",
      "Club du Top 14 ou commençant par un 'U' : US Carcassonne ( Pro D2 )\n",
      "Club du Top 14 ou commençant par un 'U' : Stade Toulousain ( TOP 14 )\n",
      "Club du Top 14 ou commençant par un 'U' : Section Paloise ( TOP 14 )\n",
      "Club du Top 14 ou commençant par un 'U' : Montpellier Hérault Rugby ( TOP 14 )\n",
      "Club du Top 14 ou commençant par un 'U' : Castres Olympique ( TOP 14 )\n"
     ]
    }
   ],
   "source": [
    "for nom, niveau in liste_clubs_niveaux:\n",
    "    if nom.startswith('U') or niveau == 'TOP 14':\n",
    "        print(\"Club du Top 14 ou commençant par un 'U' :\", nom, \"(\", niveau, \")\") "
   ]
  },
  {
   "cell_type": "code",
   "execution_count": 51,
   "id": "a12ddf18-0e86-46a6-adff-7739e493bb49",
   "metadata": {},
   "outputs": [
    {
     "name": "stdout",
     "output_type": "stream",
     "text": [
      "Niveau 1 : Union Bordeaux Bègles\n",
      "Niveau 2 : US Carcassonne\n",
      "Niveau 1 : Stade Toulousain\n",
      "Niveau 1 : Section Paloise\n",
      "Niveau 3 : RC Suresnes\n",
      "Niveau 1 : Montpellier Hérault Rugby\n",
      "Niveau 1 : Castres Olympique\n"
     ]
    }
   ],
   "source": [
    "# NB:  python 3.10: if elif elif elif elif else => match case\n",
    "for nom, niveau in liste_clubs_niveaux:\n",
    "    if niveau == 'TOP 14':\n",
    "        print(\"Niveau 1 :\", nom)\n",
    "    elif niveau == 'Pro D2':\n",
    "        print(\"Niveau 2 :\", nom)\n",
    "    elif niveau == 'Nationale':\n",
    "        print(\"Niveau 3 :\", nom)\n",
    "    elif niveau == 'Nationale 2':\n",
    "        print(\"Niveau 3 :\", nom)\n",
    "    else:\n",
    "        print(\"Autre niveau :\", nom)\n",
    "    \n",
    "    "
   ]
  },
  {
   "cell_type": "code",
   "execution_count": 52,
   "id": "aa6c442c-013b-4220-8507-549a50dd8241",
   "metadata": {},
   "outputs": [
    {
     "data": {
      "text/plain": [
       "[['Castres Olympique', 'TOP 14'],\n",
       " ['Montpellier Hérault Rugby', 'TOP 14'],\n",
       " ['RC Suresnes', 'Nationale'],\n",
       " ['Section Paloise', 'TOP 14'],\n",
       " ['Stade Toulousain', 'TOP 14'],\n",
       " ['US Carcassonne', 'Pro D2'],\n",
       " ['Union Bordeaux Bègles', 'TOP 14']]"
      ]
     },
     "execution_count": 52,
     "metadata": {},
     "output_type": "execute_result"
    }
   ],
   "source": [
    "# tri sur la 1re 'colonne'\n",
    "liste_clubs_niveaux.sort()\n",
    "liste_clubs_niveaux"
   ]
  },
  {
   "cell_type": "code",
   "execution_count": 53,
   "id": "7acf4052-e885-41c2-8c9e-02bd650e4dbb",
   "metadata": {},
   "outputs": [
    {
     "data": {
      "text/plain": [
       "[['Union Bordeaux Bègles', 'TOP 14'],\n",
       " ['US Carcassonne', 'Pro D2'],\n",
       " ['Stade Toulousain', 'TOP 14'],\n",
       " ['Section Paloise', 'TOP 14'],\n",
       " ['RC Suresnes', 'Nationale'],\n",
       " ['Montpellier Hérault Rugby', 'TOP 14'],\n",
       " ['Castres Olympique', 'TOP 14']]"
      ]
     },
     "execution_count": 53,
     "metadata": {},
     "output_type": "execute_result"
    }
   ],
   "source": [
    "liste_clubs_niveaux.sort(reverse=True)\n",
    "liste_clubs_niveaux"
   ]
  },
  {
   "cell_type": "code",
   "execution_count": 54,
   "id": "0208429c-a348-4c65-8513-d2e10f740d57",
   "metadata": {},
   "outputs": [
    {
     "data": {
      "text/plain": [
       "[['RC Suresnes', 'Nationale'],\n",
       " ['US Carcassonne', 'Pro D2'],\n",
       " ['Castres Olympique', 'TOP 14'],\n",
       " ['Montpellier Hérault Rugby', 'TOP 14'],\n",
       " ['Section Paloise', 'TOP 14'],\n",
       " ['Stade Toulousain', 'TOP 14'],\n",
       " ['Union Bordeaux Bègles', 'TOP 14']]"
      ]
     },
     "execution_count": 54,
     "metadata": {},
     "output_type": "execute_result"
    }
   ],
   "source": [
    "# tri suivant la composante #1 puis la composante #0\n",
    "liste_clubs_niveaux.sort(key=operator.itemgetter(1,0))\n",
    "liste_clubs_niveaux"
   ]
  },
  {
   "cell_type": "markdown",
   "id": "dc1f8c2b-53bd-4376-bfab-a30f9b4253fb",
   "metadata": {},
   "source": [
    "### 4.4 Tuples: tuple\n",
    "structure iterable, indexée par position (1er: 0), **non modifiable**"
   ]
  },
  {
   "cell_type": "code",
   "execution_count": 63,
   "id": "6f8f9cf0-c093-4430-9d91-f6dd11f498f7",
   "metadata": {},
   "outputs": [
    {
     "data": {
      "text/plain": [
       "('Union Bordeaux Bègles', 63, 6)"
      ]
     },
     "execution_count": 63,
     "metadata": {},
     "output_type": "execute_result"
    }
   ],
   "source": [
    "club = ('Union Bordeaux Bègles', 63, 6)\n",
    "club"
   ]
  },
  {
   "cell_type": "code",
   "execution_count": 64,
   "id": "d1711f37-ad44-4f41-ace6-013645fbad47",
   "metadata": {},
   "outputs": [
    {
     "data": {
      "text/plain": [
       "'Union Bordeaux Bègles'"
      ]
     },
     "execution_count": 64,
     "metadata": {},
     "output_type": "execute_result"
    }
   ],
   "source": [
    "club[0]"
   ]
  },
  {
   "cell_type": "code",
   "execution_count": 66,
   "id": "1c6c6b68-5d33-41ab-9fa9-c33e4fca0980",
   "metadata": {},
   "outputs": [],
   "source": [
    "## TypeError: 'tuple' object does not support item assignment\n",
    "#club[0] = 'UBB - Union Bordeaux Bègles'"
   ]
  },
  {
   "cell_type": "code",
   "execution_count": 70,
   "id": "6a231e07-4b47-4f86-8d30-86c5953fa82d",
   "metadata": {},
   "outputs": [
    {
     "data": {
      "text/plain": [
       "('UBB - Union Bordeaux Bègles', 53, 5)"
      ]
     },
     "execution_count": 70,
     "metadata": {},
     "output_type": "execute_result"
    }
   ],
   "source": [
    "# remplacement de l'ancien tuple par un nouveau\n",
    "club = 'UBB - Union Bordeaux Bègles', 53, 5\n",
    "club"
   ]
  },
  {
   "cell_type": "code",
   "execution_count": 74,
   "id": "210866ec-4529-4304-a32f-33c065f01a94",
   "metadata": {},
   "outputs": [
    {
     "name": "stdout",
     "output_type": "stream",
     "text": [
      "UBB - Union Bordeaux Bègles\n",
      "53\n",
      "5\n"
     ]
    }
   ],
   "source": [
    "nom_club, points, rang = club\n",
    "print(nom_club)\n",
    "print(points)\n",
    "print(rang)"
   ]
  },
  {
   "cell_type": "markdown",
   "id": "dcba3071-d6e7-42da-a241-789604a5b067",
   "metadata": {},
   "source": [
    "### 4.5 Dictionnaires: dict\n",
    "structure de donnée organisée en couples (clé, valeur) i.e (key,value)"
   ]
  },
  {
   "cell_type": "code",
   "execution_count": 75,
   "id": "a5743c7d-b8ad-4a10-b0f4-97fbfc6fa707",
   "metadata": {},
   "outputs": [
    {
     "data": {
      "text/plain": [
       "{'nom_club': 'UBB - Union Bordeaux Bègles', 'points': 50, 'rang': 5}"
      ]
     },
     "execution_count": 75,
     "metadata": {},
     "output_type": "execute_result"
    }
   ],
   "source": [
    "club_dict = { \n",
    "    'nom_club': 'UBB - Union Bordeaux Bègles',\n",
    "    'points': 50,\n",
    "    'rang': 5\n",
    "}\n",
    "club_dict"
   ]
  },
  {
   "cell_type": "code",
   "execution_count": 76,
   "id": "c4b48cf8-fd6a-426a-b536-8633bf2fb92f",
   "metadata": {},
   "outputs": [
    {
     "data": {
      "text/plain": [
       "'UBB - Union Bordeaux Bègles'"
      ]
     },
     "execution_count": 76,
     "metadata": {},
     "output_type": "execute_result"
    }
   ],
   "source": [
    "club_dict['nom_club']"
   ]
  },
  {
   "cell_type": "code",
   "execution_count": 77,
   "id": "c99b8822-2f7f-4043-acdb-ff504b59f6d1",
   "metadata": {},
   "outputs": [
    {
     "data": {
      "text/plain": [
       "{'nom_club': 'UBB - Union Bordeaux Bègles', 'points': 55, 'rang': 5}"
      ]
     },
     "execution_count": 77,
     "metadata": {},
     "output_type": "execute_result"
    }
   ],
   "source": [
    "club_dict['points'] += 5\n",
    "club_dict"
   ]
  },
  {
   "cell_type": "markdown",
   "id": "ab051082-8eb2-460b-aa32-052f6913d038",
   "metadata": {},
   "source": [
    "## 5. tableaux DataFrame de Pandas"
   ]
  },
  {
   "cell_type": "code",
   "execution_count": 55,
   "id": "ce52fc0c-7e8f-492b-94bc-1a8fd277a9ad",
   "metadata": {},
   "outputs": [
    {
     "data": {
      "text/html": [
       "<div>\n",
       "<style scoped>\n",
       "    .dataframe tbody tr th:only-of-type {\n",
       "        vertical-align: middle;\n",
       "    }\n",
       "\n",
       "    .dataframe tbody tr th {\n",
       "        vertical-align: top;\n",
       "    }\n",
       "\n",
       "    .dataframe thead th {\n",
       "        text-align: right;\n",
       "    }\n",
       "</style>\n",
       "<table border=\"1\" class=\"dataframe\">\n",
       "  <thead>\n",
       "    <tr style=\"text-align: right;\">\n",
       "      <th></th>\n",
       "      <th>Club</th>\n",
       "      <th>Niveau</th>\n",
       "    </tr>\n",
       "  </thead>\n",
       "  <tbody>\n",
       "    <tr>\n",
       "      <th>0</th>\n",
       "      <td>RC Suresnes</td>\n",
       "      <td>Nationale</td>\n",
       "    </tr>\n",
       "    <tr>\n",
       "      <th>1</th>\n",
       "      <td>US Carcassonne</td>\n",
       "      <td>Pro D2</td>\n",
       "    </tr>\n",
       "    <tr>\n",
       "      <th>2</th>\n",
       "      <td>Castres Olympique</td>\n",
       "      <td>TOP 14</td>\n",
       "    </tr>\n",
       "    <tr>\n",
       "      <th>3</th>\n",
       "      <td>Montpellier Hérault Rugby</td>\n",
       "      <td>TOP 14</td>\n",
       "    </tr>\n",
       "    <tr>\n",
       "      <th>4</th>\n",
       "      <td>Section Paloise</td>\n",
       "      <td>TOP 14</td>\n",
       "    </tr>\n",
       "    <tr>\n",
       "      <th>5</th>\n",
       "      <td>Stade Toulousain</td>\n",
       "      <td>TOP 14</td>\n",
       "    </tr>\n",
       "    <tr>\n",
       "      <th>6</th>\n",
       "      <td>Union Bordeaux Bègles</td>\n",
       "      <td>TOP 14</td>\n",
       "    </tr>\n",
       "  </tbody>\n",
       "</table>\n",
       "</div>"
      ],
      "text/plain": [
       "                        Club     Niveau\n",
       "0                RC Suresnes  Nationale\n",
       "1             US Carcassonne     Pro D2\n",
       "2          Castres Olympique     TOP 14\n",
       "3  Montpellier Hérault Rugby     TOP 14\n",
       "4            Section Paloise     TOP 14\n",
       "5           Stade Toulousain     TOP 14\n",
       "6      Union Bordeaux Bègles     TOP 14"
      ]
     },
     "execution_count": 55,
     "metadata": {},
     "output_type": "execute_result"
    }
   ],
   "source": [
    "df_clubs = pd.DataFrame(liste_clubs_niveaux, columns=['Club', 'Niveau'])\n",
    "df_clubs"
   ]
  },
  {
   "cell_type": "code",
   "execution_count": 56,
   "id": "66083b37-20b7-4cd6-b501-1ec2a5d7d8ad",
   "metadata": {},
   "outputs": [
    {
     "data": {
      "text/html": [
       "<div>\n",
       "<style scoped>\n",
       "    .dataframe tbody tr th:only-of-type {\n",
       "        vertical-align: middle;\n",
       "    }\n",
       "\n",
       "    .dataframe tbody tr th {\n",
       "        vertical-align: top;\n",
       "    }\n",
       "\n",
       "    .dataframe thead th {\n",
       "        text-align: right;\n",
       "    }\n",
       "</style>\n",
       "<table border=\"1\" class=\"dataframe\">\n",
       "  <thead>\n",
       "    <tr style=\"text-align: right;\">\n",
       "      <th></th>\n",
       "      <th>Club</th>\n",
       "      <th>Niveau</th>\n",
       "    </tr>\n",
       "  </thead>\n",
       "  <tbody>\n",
       "    <tr>\n",
       "      <th>2</th>\n",
       "      <td>Castres Olympique</td>\n",
       "      <td>TOP 14</td>\n",
       "    </tr>\n",
       "    <tr>\n",
       "      <th>3</th>\n",
       "      <td>Montpellier Hérault Rugby</td>\n",
       "      <td>TOP 14</td>\n",
       "    </tr>\n",
       "    <tr>\n",
       "      <th>0</th>\n",
       "      <td>RC Suresnes</td>\n",
       "      <td>Nationale</td>\n",
       "    </tr>\n",
       "    <tr>\n",
       "      <th>4</th>\n",
       "      <td>Section Paloise</td>\n",
       "      <td>TOP 14</td>\n",
       "    </tr>\n",
       "    <tr>\n",
       "      <th>5</th>\n",
       "      <td>Stade Toulousain</td>\n",
       "      <td>TOP 14</td>\n",
       "    </tr>\n",
       "    <tr>\n",
       "      <th>1</th>\n",
       "      <td>US Carcassonne</td>\n",
       "      <td>Pro D2</td>\n",
       "    </tr>\n",
       "    <tr>\n",
       "      <th>6</th>\n",
       "      <td>Union Bordeaux Bègles</td>\n",
       "      <td>TOP 14</td>\n",
       "    </tr>\n",
       "  </tbody>\n",
       "</table>\n",
       "</div>"
      ],
      "text/plain": [
       "                        Club     Niveau\n",
       "2          Castres Olympique     TOP 14\n",
       "3  Montpellier Hérault Rugby     TOP 14\n",
       "0                RC Suresnes  Nationale\n",
       "4            Section Paloise     TOP 14\n",
       "5           Stade Toulousain     TOP 14\n",
       "1             US Carcassonne     Pro D2\n",
       "6      Union Bordeaux Bègles     TOP 14"
      ]
     },
     "execution_count": 56,
     "metadata": {},
     "output_type": "execute_result"
    }
   ],
   "source": [
    "# par défaut, le tri de pandas donne un nouveau dataframe\n",
    "df_clubs.sort_values(by='Club')"
   ]
  },
  {
   "cell_type": "code",
   "execution_count": 57,
   "id": "237a932f-4378-4515-a4ad-3d23b6b1e245",
   "metadata": {},
   "outputs": [
    {
     "data": {
      "text/html": [
       "<div>\n",
       "<style scoped>\n",
       "    .dataframe tbody tr th:only-of-type {\n",
       "        vertical-align: middle;\n",
       "    }\n",
       "\n",
       "    .dataframe tbody tr th {\n",
       "        vertical-align: top;\n",
       "    }\n",
       "\n",
       "    .dataframe thead th {\n",
       "        text-align: right;\n",
       "    }\n",
       "</style>\n",
       "<table border=\"1\" class=\"dataframe\">\n",
       "  <thead>\n",
       "    <tr style=\"text-align: right;\">\n",
       "      <th></th>\n",
       "      <th>Club</th>\n",
       "      <th>Niveau</th>\n",
       "    </tr>\n",
       "  </thead>\n",
       "  <tbody>\n",
       "    <tr>\n",
       "      <th>6</th>\n",
       "      <td>Union Bordeaux Bègles</td>\n",
       "      <td>TOP 14</td>\n",
       "    </tr>\n",
       "    <tr>\n",
       "      <th>1</th>\n",
       "      <td>US Carcassonne</td>\n",
       "      <td>Pro D2</td>\n",
       "    </tr>\n",
       "    <tr>\n",
       "      <th>5</th>\n",
       "      <td>Stade Toulousain</td>\n",
       "      <td>TOP 14</td>\n",
       "    </tr>\n",
       "    <tr>\n",
       "      <th>4</th>\n",
       "      <td>Section Paloise</td>\n",
       "      <td>TOP 14</td>\n",
       "    </tr>\n",
       "    <tr>\n",
       "      <th>0</th>\n",
       "      <td>RC Suresnes</td>\n",
       "      <td>Nationale</td>\n",
       "    </tr>\n",
       "    <tr>\n",
       "      <th>3</th>\n",
       "      <td>Montpellier Hérault Rugby</td>\n",
       "      <td>TOP 14</td>\n",
       "    </tr>\n",
       "    <tr>\n",
       "      <th>2</th>\n",
       "      <td>Castres Olympique</td>\n",
       "      <td>TOP 14</td>\n",
       "    </tr>\n",
       "  </tbody>\n",
       "</table>\n",
       "</div>"
      ],
      "text/plain": [
       "                        Club     Niveau\n",
       "6      Union Bordeaux Bègles     TOP 14\n",
       "1             US Carcassonne     Pro D2\n",
       "5           Stade Toulousain     TOP 14\n",
       "4            Section Paloise     TOP 14\n",
       "0                RC Suresnes  Nationale\n",
       "3  Montpellier Hérault Rugby     TOP 14\n",
       "2          Castres Olympique     TOP 14"
      ]
     },
     "execution_count": 57,
     "metadata": {},
     "output_type": "execute_result"
    }
   ],
   "source": [
    "# tri en place (inplace) analogue à celui de python\n",
    "df_clubs.sort_values(by='Club', ascending=False, inplace=True)\n",
    "df_clubs"
   ]
  },
  {
   "cell_type": "code",
   "execution_count": 58,
   "id": "1a9cf526-a47d-4f9c-929b-4f747a047dbb",
   "metadata": {},
   "outputs": [
    {
     "data": {
      "text/html": [
       "<div>\n",
       "<style scoped>\n",
       "    .dataframe tbody tr th:only-of-type {\n",
       "        vertical-align: middle;\n",
       "    }\n",
       "\n",
       "    .dataframe tbody tr th {\n",
       "        vertical-align: top;\n",
       "    }\n",
       "\n",
       "    .dataframe thead th {\n",
       "        text-align: right;\n",
       "    }\n",
       "</style>\n",
       "<table border=\"1\" class=\"dataframe\">\n",
       "  <thead>\n",
       "    <tr style=\"text-align: right;\">\n",
       "      <th></th>\n",
       "      <th>Club</th>\n",
       "      <th>Niveau</th>\n",
       "    </tr>\n",
       "  </thead>\n",
       "  <tbody>\n",
       "    <tr>\n",
       "      <th>0</th>\n",
       "      <td>RC Suresnes</td>\n",
       "      <td>Nationale</td>\n",
       "    </tr>\n",
       "    <tr>\n",
       "      <th>1</th>\n",
       "      <td>US Carcassonne</td>\n",
       "      <td>Pro D2</td>\n",
       "    </tr>\n",
       "    <tr>\n",
       "      <th>2</th>\n",
       "      <td>Castres Olympique</td>\n",
       "      <td>TOP 14</td>\n",
       "    </tr>\n",
       "    <tr>\n",
       "      <th>3</th>\n",
       "      <td>Montpellier Hérault Rugby</td>\n",
       "      <td>TOP 14</td>\n",
       "    </tr>\n",
       "    <tr>\n",
       "      <th>4</th>\n",
       "      <td>Section Paloise</td>\n",
       "      <td>TOP 14</td>\n",
       "    </tr>\n",
       "    <tr>\n",
       "      <th>5</th>\n",
       "      <td>Stade Toulousain</td>\n",
       "      <td>TOP 14</td>\n",
       "    </tr>\n",
       "    <tr>\n",
       "      <th>6</th>\n",
       "      <td>Union Bordeaux Bègles</td>\n",
       "      <td>TOP 14</td>\n",
       "    </tr>\n",
       "  </tbody>\n",
       "</table>\n",
       "</div>"
      ],
      "text/plain": [
       "                        Club     Niveau\n",
       "0                RC Suresnes  Nationale\n",
       "1             US Carcassonne     Pro D2\n",
       "2          Castres Olympique     TOP 14\n",
       "3  Montpellier Hérault Rugby     TOP 14\n",
       "4            Section Paloise     TOP 14\n",
       "5           Stade Toulousain     TOP 14\n",
       "6      Union Bordeaux Bègles     TOP 14"
      ]
     },
     "execution_count": 58,
     "metadata": {},
     "output_type": "execute_result"
    }
   ],
   "source": [
    "df_clubs.sort_values(by=['Niveau','Club'], inplace=True)\n",
    "df_clubs"
   ]
  },
  {
   "cell_type": "code",
   "execution_count": 59,
   "id": "2c81c830-56f4-4c77-8243-db1d12c6938a",
   "metadata": {},
   "outputs": [
    {
     "data": {
      "text/html": [
       "<div>\n",
       "<style scoped>\n",
       "    .dataframe tbody tr th:only-of-type {\n",
       "        vertical-align: middle;\n",
       "    }\n",
       "\n",
       "    .dataframe tbody tr th {\n",
       "        vertical-align: top;\n",
       "    }\n",
       "\n",
       "    .dataframe thead th {\n",
       "        text-align: right;\n",
       "    }\n",
       "</style>\n",
       "<table border=\"1\" class=\"dataframe\">\n",
       "  <thead>\n",
       "    <tr style=\"text-align: right;\">\n",
       "      <th></th>\n",
       "      <th>Club</th>\n",
       "      <th>Niveau</th>\n",
       "    </tr>\n",
       "  </thead>\n",
       "  <tbody>\n",
       "    <tr>\n",
       "      <th>2</th>\n",
       "      <td>Castres Olympique</td>\n",
       "      <td>TOP 14</td>\n",
       "    </tr>\n",
       "    <tr>\n",
       "      <th>3</th>\n",
       "      <td>Montpellier Hérault Rugby</td>\n",
       "      <td>TOP 14</td>\n",
       "    </tr>\n",
       "    <tr>\n",
       "      <th>4</th>\n",
       "      <td>Section Paloise</td>\n",
       "      <td>TOP 14</td>\n",
       "    </tr>\n",
       "    <tr>\n",
       "      <th>5</th>\n",
       "      <td>Stade Toulousain</td>\n",
       "      <td>TOP 14</td>\n",
       "    </tr>\n",
       "    <tr>\n",
       "      <th>6</th>\n",
       "      <td>Union Bordeaux Bègles</td>\n",
       "      <td>TOP 14</td>\n",
       "    </tr>\n",
       "    <tr>\n",
       "      <th>1</th>\n",
       "      <td>US Carcassonne</td>\n",
       "      <td>Pro D2</td>\n",
       "    </tr>\n",
       "    <tr>\n",
       "      <th>0</th>\n",
       "      <td>RC Suresnes</td>\n",
       "      <td>Nationale</td>\n",
       "    </tr>\n",
       "  </tbody>\n",
       "</table>\n",
       "</div>"
      ],
      "text/plain": [
       "                        Club     Niveau\n",
       "2          Castres Olympique     TOP 14\n",
       "3  Montpellier Hérault Rugby     TOP 14\n",
       "4            Section Paloise     TOP 14\n",
       "5           Stade Toulousain     TOP 14\n",
       "6      Union Bordeaux Bègles     TOP 14\n",
       "1             US Carcassonne     Pro D2\n",
       "0                RC Suresnes  Nationale"
      ]
     },
     "execution_count": 59,
     "metadata": {},
     "output_type": "execute_result"
    }
   ],
   "source": [
    "# tri suivant le niveau (décroissant alphabétique) \n",
    "# puis par club (croissant alphabétique)\n",
    "df_clubs.sort_values(by=['Niveau','Club'], ascending=[False,True], inplace=True)\n",
    "df_clubs"
   ]
  },
  {
   "cell_type": "code",
   "execution_count": 60,
   "id": "3c573d4a-b8b5-4910-a532-93a17ba927ef",
   "metadata": {},
   "outputs": [
    {
     "data": {
      "text/plain": [
       "2       TOP 14\n",
       "3       TOP 14\n",
       "4       TOP 14\n",
       "5       TOP 14\n",
       "6       TOP 14\n",
       "1       Pro D2\n",
       "0    Nationale\n",
       "Name: Niveau, dtype: object"
      ]
     },
     "execution_count": 60,
     "metadata": {},
     "output_type": "execute_result"
    }
   ],
   "source": [
    "df_clubs.Niveau"
   ]
  },
  {
   "cell_type": "code",
   "execution_count": 61,
   "id": "f6b8cf58-8bb6-4448-b67d-e4a2b5627ac3",
   "metadata": {},
   "outputs": [
    {
     "data": {
      "text/plain": [
       "2     True\n",
       "3     True\n",
       "4     True\n",
       "5     True\n",
       "6     True\n",
       "1    False\n",
       "0    False\n",
       "Name: Niveau, dtype: bool"
      ]
     },
     "execution_count": 61,
     "metadata": {},
     "output_type": "execute_result"
    }
   ],
   "source": [
    "df_clubs.Niveau == 'TOP 14'"
   ]
  },
  {
   "cell_type": "code",
   "execution_count": 62,
   "id": "c30b8f7a-c3b8-4bc2-af1f-8d2bf919ccb6",
   "metadata": {},
   "outputs": [
    {
     "data": {
      "text/html": [
       "<div>\n",
       "<style scoped>\n",
       "    .dataframe tbody tr th:only-of-type {\n",
       "        vertical-align: middle;\n",
       "    }\n",
       "\n",
       "    .dataframe tbody tr th {\n",
       "        vertical-align: top;\n",
       "    }\n",
       "\n",
       "    .dataframe thead th {\n",
       "        text-align: right;\n",
       "    }\n",
       "</style>\n",
       "<table border=\"1\" class=\"dataframe\">\n",
       "  <thead>\n",
       "    <tr style=\"text-align: right;\">\n",
       "      <th></th>\n",
       "      <th>Club</th>\n",
       "      <th>Niveau</th>\n",
       "    </tr>\n",
       "  </thead>\n",
       "  <tbody>\n",
       "    <tr>\n",
       "      <th>2</th>\n",
       "      <td>Castres Olympique</td>\n",
       "      <td>TOP 14</td>\n",
       "    </tr>\n",
       "    <tr>\n",
       "      <th>3</th>\n",
       "      <td>Montpellier Hérault Rugby</td>\n",
       "      <td>TOP 14</td>\n",
       "    </tr>\n",
       "    <tr>\n",
       "      <th>4</th>\n",
       "      <td>Section Paloise</td>\n",
       "      <td>TOP 14</td>\n",
       "    </tr>\n",
       "    <tr>\n",
       "      <th>5</th>\n",
       "      <td>Stade Toulousain</td>\n",
       "      <td>TOP 14</td>\n",
       "    </tr>\n",
       "    <tr>\n",
       "      <th>6</th>\n",
       "      <td>Union Bordeaux Bègles</td>\n",
       "      <td>TOP 14</td>\n",
       "    </tr>\n",
       "  </tbody>\n",
       "</table>\n",
       "</div>"
      ],
      "text/plain": [
       "                        Club  Niveau\n",
       "2          Castres Olympique  TOP 14\n",
       "3  Montpellier Hérault Rugby  TOP 14\n",
       "4            Section Paloise  TOP 14\n",
       "5           Stade Toulousain  TOP 14\n",
       "6      Union Bordeaux Bègles  TOP 14"
      ]
     },
     "execution_count": 62,
     "metadata": {},
     "output_type": "execute_result"
    }
   ],
   "source": [
    "# clubs tels que le niveau du club est 'TOP 14'\n",
    "df_clubs[df_clubs.Niveau == 'TOP 14']"
   ]
  }
 ],
 "metadata": {
  "kernelspec": {
   "display_name": "Python 3 (ipykernel)",
   "language": "python",
   "name": "python3"
  },
  "language_info": {
   "codemirror_mode": {
    "name": "ipython",
    "version": 3
   },
   "file_extension": ".py",
   "mimetype": "text/x-python",
   "name": "python",
   "nbconvert_exporter": "python",
   "pygments_lexer": "ipython3",
   "version": "3.9.12"
  }
 },
 "nbformat": 4,
 "nbformat_minor": 5
}
