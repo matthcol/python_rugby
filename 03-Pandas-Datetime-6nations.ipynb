{
 "cells": [
  {
   "cell_type": "code",
   "execution_count": 1,
   "id": "511e8abc-a7b4-412b-97bf-5ead16a41160",
   "metadata": {},
   "outputs": [],
   "source": [
    "import pandas as pd\n",
    "from datetime import datetime, date, time, timedelta"
   ]
  },
  {
   "cell_type": "markdown",
   "id": "030eff32-80da-4161-84c6-dde45ffbb46c",
   "metadata": {
    "jupyter": {
     "outputs_hidden": true
    },
    "tags": []
   },
   "source": [
    "## 1. Lecture Données CSV du tournoi des 6 nations"
   ]
  },
  {
   "cell_type": "code",
   "execution_count": 2,
   "id": "1ce7954a-c2cb-474d-9abd-f8f8054d673f",
   "metadata": {
    "tags": []
   },
   "outputs": [
    {
     "data": {
      "text/html": [
       "<div>\n",
       "<style scoped>\n",
       "    .dataframe tbody tr th:only-of-type {\n",
       "        vertical-align: middle;\n",
       "    }\n",
       "\n",
       "    .dataframe tbody tr th {\n",
       "        vertical-align: top;\n",
       "    }\n",
       "\n",
       "    .dataframe thead th {\n",
       "        text-align: right;\n",
       "    }\n",
       "</style>\n",
       "<table border=\"1\" class=\"dataframe\">\n",
       "  <thead>\n",
       "    <tr style=\"text-align: right;\">\n",
       "      <th></th>\n",
       "      <th>guid</th>\n",
       "      <th>uuid</th>\n",
       "      <th>datetime</th>\n",
       "      <th>datetime_paris</th>\n",
       "      <th>round</th>\n",
       "      <th>teamA_name</th>\n",
       "      <th>teamA_shortName</th>\n",
       "      <th>teamB_name</th>\n",
       "      <th>teamB_shortName</th>\n",
       "      <th>score_teamA</th>\n",
       "      <th>...</th>\n",
       "      <th>htscore_teamB</th>\n",
       "      <th>status</th>\n",
       "      <th>minutes</th>\n",
       "      <th>referee_firstName</th>\n",
       "      <th>referee_lastName</th>\n",
       "      <th>referee_knownAs</th>\n",
       "      <th>venue_name</th>\n",
       "      <th>venue_location</th>\n",
       "      <th>venue_timezone</th>\n",
       "      <th>attendance</th>\n",
       "    </tr>\n",
       "  </thead>\n",
       "  <tbody>\n",
       "    <tr>\n",
       "      <th>0</th>\n",
       "      <td>22WI1234</td>\n",
       "      <td>8a908178-2222-4952-9759-62f1d7d7ed6b</td>\n",
       "      <td>2023-02-04 14:15:00+00:00</td>\n",
       "      <td>2023-02-04 15:15:00+01:00</td>\n",
       "      <td>1</td>\n",
       "      <td>Pays de Galles</td>\n",
       "      <td>WALE</td>\n",
       "      <td>Irlande</td>\n",
       "      <td>IREL</td>\n",
       "      <td>10</td>\n",
       "      <td>...</td>\n",
       "      <td>27</td>\n",
       "      <td>Res</td>\n",
       "      <td>80</td>\n",
       "      <td>Karl</td>\n",
       "      <td>Dickson</td>\n",
       "      <td>Karl Dickson</td>\n",
       "      <td>Principality Stadium</td>\n",
       "      <td>Cardiff</td>\n",
       "      <td>Europe/London</td>\n",
       "      <td>74500</td>\n",
       "    </tr>\n",
       "    <tr>\n",
       "      <th>1</th>\n",
       "      <td>22ES1234</td>\n",
       "      <td>63d81950-41cd-43f4-b5ad-9ef1b68b673c</td>\n",
       "      <td>2023-02-04 16:45:00+00:00</td>\n",
       "      <td>2023-02-04 17:45:00+01:00</td>\n",
       "      <td>1</td>\n",
       "      <td>Angleterre</td>\n",
       "      <td>ENGL</td>\n",
       "      <td>Écosse</td>\n",
       "      <td>SCOT</td>\n",
       "      <td>23</td>\n",
       "      <td>...</td>\n",
       "      <td>12</td>\n",
       "      <td>Res</td>\n",
       "      <td>80</td>\n",
       "      <td>Paul</td>\n",
       "      <td>Williams</td>\n",
       "      <td>Paul Williams</td>\n",
       "      <td>Twickenham</td>\n",
       "      <td>London</td>\n",
       "      <td>Europe/London</td>\n",
       "      <td>0</td>\n",
       "    </tr>\n",
       "    <tr>\n",
       "      <th>2</th>\n",
       "      <td>22IF1234</td>\n",
       "      <td>b0354f39-fa83-4fb7-817d-d64d06e956eb</td>\n",
       "      <td>2023-02-05 15:00:00+00:00</td>\n",
       "      <td>2023-02-05 16:00:00+01:00</td>\n",
       "      <td>1</td>\n",
       "      <td>Italie</td>\n",
       "      <td>ITAL</td>\n",
       "      <td>France</td>\n",
       "      <td>FRAN</td>\n",
       "      <td>24</td>\n",
       "      <td>...</td>\n",
       "      <td>19</td>\n",
       "      <td>Res</td>\n",
       "      <td>80</td>\n",
       "      <td>Matthew</td>\n",
       "      <td>Carley</td>\n",
       "      <td>Matthew Carley</td>\n",
       "      <td>Stadio Olimpico</td>\n",
       "      <td>Rome</td>\n",
       "      <td>Europe/Rome</td>\n",
       "      <td>41232</td>\n",
       "    </tr>\n",
       "  </tbody>\n",
       "</table>\n",
       "<p>3 rows × 22 columns</p>\n",
       "</div>"
      ],
      "text/plain": [
       "       guid                                  uuid                  datetime  \\\n",
       "0  22WI1234  8a908178-2222-4952-9759-62f1d7d7ed6b 2023-02-04 14:15:00+00:00   \n",
       "1  22ES1234  63d81950-41cd-43f4-b5ad-9ef1b68b673c 2023-02-04 16:45:00+00:00   \n",
       "2  22IF1234  b0354f39-fa83-4fb7-817d-d64d06e956eb 2023-02-05 15:00:00+00:00   \n",
       "\n",
       "             datetime_paris  round      teamA_name teamA_shortName teamB_name  \\\n",
       "0 2023-02-04 15:15:00+01:00      1  Pays de Galles            WALE    Irlande   \n",
       "1 2023-02-04 17:45:00+01:00      1      Angleterre            ENGL     Écosse   \n",
       "2 2023-02-05 16:00:00+01:00      1          Italie            ITAL     France   \n",
       "\n",
       "  teamB_shortName  score_teamA  ...  htscore_teamB  status  minutes  \\\n",
       "0            IREL           10  ...             27     Res       80   \n",
       "1            SCOT           23  ...             12     Res       80   \n",
       "2            FRAN           24  ...             19     Res       80   \n",
       "\n",
       "  referee_firstName  referee_lastName referee_knownAs            venue_name  \\\n",
       "0              Karl           Dickson    Karl Dickson  Principality Stadium   \n",
       "1              Paul          Williams   Paul Williams            Twickenham   \n",
       "2           Matthew            Carley  Matthew Carley       Stadio Olimpico   \n",
       "\n",
       "  venue_location venue_timezone attendance  \n",
       "0        Cardiff  Europe/London      74500  \n",
       "1         London  Europe/London          0  \n",
       "2           Rome    Europe/Rome      41232  \n",
       "\n",
       "[3 rows x 22 columns]"
      ]
     },
     "execution_count": 2,
     "metadata": {},
     "output_type": "execute_result"
    }
   ],
   "source": [
    "dfMatches = pd.read_csv('data/6nations/2023/matches.csv', parse_dates=['datetime', 'datetime_paris'])\n",
    "dfMatches.head(3)  #.tail(3)"
   ]
  },
  {
   "cell_type": "code",
   "execution_count": 3,
   "id": "638ddbda-7a0b-4555-b80e-791e9142e17d",
   "metadata": {
    "tags": []
   },
   "outputs": [
    {
     "data": {
      "text/html": [
       "<div>\n",
       "<style scoped>\n",
       "    .dataframe tbody tr th:only-of-type {\n",
       "        vertical-align: middle;\n",
       "    }\n",
       "\n",
       "    .dataframe tbody tr th {\n",
       "        vertical-align: top;\n",
       "    }\n",
       "\n",
       "    .dataframe thead th {\n",
       "        text-align: right;\n",
       "    }\n",
       "</style>\n",
       "<table border=\"1\" class=\"dataframe\">\n",
       "  <thead>\n",
       "    <tr style=\"text-align: right;\">\n",
       "      <th></th>\n",
       "      <th>game_guid</th>\n",
       "      <th>team</th>\n",
       "      <th>uuid</th>\n",
       "      <th>guid</th>\n",
       "      <th>firstName</th>\n",
       "      <th>lastName</th>\n",
       "      <th>position</th>\n",
       "      <th>starter</th>\n",
       "      <th>MP</th>\n",
       "      <th>T</th>\n",
       "      <th>...</th>\n",
       "      <th>TW</th>\n",
       "      <th>TC</th>\n",
       "      <th>HE</th>\n",
       "      <th>PC</th>\n",
       "      <th>OPC</th>\n",
       "      <th>SPC</th>\n",
       "      <th>LW</th>\n",
       "      <th>LS</th>\n",
       "      <th>YC</th>\n",
       "      <th>RC</th>\n",
       "    </tr>\n",
       "  </thead>\n",
       "  <tbody>\n",
       "    <tr>\n",
       "      <th>0</th>\n",
       "      <td>22WI1234</td>\n",
       "      <td>teamA</td>\n",
       "      <td>0a53a3d1-ed03-4d88-92e2-243e1f205908</td>\n",
       "      <td>LW454197</td>\n",
       "      <td>Liam</td>\n",
       "      <td>Williams</td>\n",
       "      <td>15</td>\n",
       "      <td>True</td>\n",
       "      <td>0</td>\n",
       "      <td>0</td>\n",
       "      <td>...</td>\n",
       "      <td>1</td>\n",
       "      <td>0</td>\n",
       "      <td>0</td>\n",
       "      <td>2</td>\n",
       "      <td>0</td>\n",
       "      <td>0</td>\n",
       "      <td>0</td>\n",
       "      <td>0</td>\n",
       "      <td>0</td>\n",
       "      <td>0</td>\n",
       "    </tr>\n",
       "    <tr>\n",
       "      <th>1</th>\n",
       "      <td>22WI1234</td>\n",
       "      <td>teamA</td>\n",
       "      <td>9251b023-6fe1-43e3-8606-a488a6e5269a</td>\n",
       "      <td>JA935900</td>\n",
       "      <td>Josh</td>\n",
       "      <td>Adams</td>\n",
       "      <td>14</td>\n",
       "      <td>True</td>\n",
       "      <td>0</td>\n",
       "      <td>0</td>\n",
       "      <td>...</td>\n",
       "      <td>0</td>\n",
       "      <td>0</td>\n",
       "      <td>0</td>\n",
       "      <td>1</td>\n",
       "      <td>0</td>\n",
       "      <td>0</td>\n",
       "      <td>0</td>\n",
       "      <td>0</td>\n",
       "      <td>0</td>\n",
       "      <td>0</td>\n",
       "    </tr>\n",
       "    <tr>\n",
       "      <th>2</th>\n",
       "      <td>22WI1234</td>\n",
       "      <td>teamA</td>\n",
       "      <td>7fd1fa2d-77f1-4427-8000-45ff3ebf24fd</td>\n",
       "      <td>GN107642</td>\n",
       "      <td>George</td>\n",
       "      <td>North</td>\n",
       "      <td>13</td>\n",
       "      <td>True</td>\n",
       "      <td>0</td>\n",
       "      <td>0</td>\n",
       "      <td>...</td>\n",
       "      <td>1</td>\n",
       "      <td>0</td>\n",
       "      <td>1</td>\n",
       "      <td>0</td>\n",
       "      <td>0</td>\n",
       "      <td>0</td>\n",
       "      <td>1</td>\n",
       "      <td>0</td>\n",
       "      <td>0</td>\n",
       "      <td>0</td>\n",
       "    </tr>\n",
       "  </tbody>\n",
       "</table>\n",
       "<p>3 rows × 36 columns</p>\n",
       "</div>"
      ],
      "text/plain": [
       "  game_guid   team                                  uuid      guid firstName  \\\n",
       "0  22WI1234  teamA  0a53a3d1-ed03-4d88-92e2-243e1f205908  LW454197      Liam   \n",
       "1  22WI1234  teamA  9251b023-6fe1-43e3-8606-a488a6e5269a  JA935900      Josh   \n",
       "2  22WI1234  teamA  7fd1fa2d-77f1-4427-8000-45ff3ebf24fd  GN107642    George   \n",
       "\n",
       "   lastName  position  starter  MP  T  ...  TW  TC  HE  PC  OPC  SPC  LW  LS  \\\n",
       "0  Williams        15     True   0  0  ...   1   0   0   2    0    0   0   0   \n",
       "1     Adams        14     True   0  0  ...   0   0   0   1    0    0   0   0   \n",
       "2     North        13     True   0  0  ...   1   0   1   0    0    0   1   0   \n",
       "\n",
       "   YC  RC  \n",
       "0   0   0  \n",
       "1   0   0  \n",
       "2   0   0  \n",
       "\n",
       "[3 rows x 36 columns]"
      ]
     },
     "execution_count": 3,
     "metadata": {},
     "output_type": "execute_result"
    }
   ],
   "source": [
    "dStatPlayers = pd.read_csv('data/6nations/2023/players.csv')\n",
    "dStatPlayers.head(3)"
   ]
  },
  {
   "cell_type": "code",
   "execution_count": 4,
   "id": "c5b743af-8c77-4d0f-8bd3-be3d68ca39c4",
   "metadata": {},
   "outputs": [
    {
     "name": "stdout",
     "output_type": "stream",
     "text": [
      "<class 'pandas.core.frame.DataFrame'>\n",
      "RangeIndex: 15 entries, 0 to 14\n",
      "Data columns (total 22 columns):\n",
      " #   Column             Non-Null Count  Dtype                               \n",
      "---  ------             --------------  -----                               \n",
      " 0   guid               15 non-null     object                              \n",
      " 1   uuid               15 non-null     object                              \n",
      " 2   datetime           15 non-null     datetime64[ns, UTC]                 \n",
      " 3   datetime_paris     15 non-null     datetime64[ns, pytz.FixedOffset(60)]\n",
      " 4   round              15 non-null     int64                               \n",
      " 5   teamA_name         15 non-null     object                              \n",
      " 6   teamA_shortName    15 non-null     object                              \n",
      " 7   teamB_name         15 non-null     object                              \n",
      " 8   teamB_shortName    15 non-null     object                              \n",
      " 9   score_teamA        15 non-null     int64                               \n",
      " 10  score_teamB        15 non-null     int64                               \n",
      " 11  htscore_teamA      15 non-null     int64                               \n",
      " 12  htscore_teamB      15 non-null     int64                               \n",
      " 13  status             15 non-null     object                              \n",
      " 14  minutes            15 non-null     int64                               \n",
      " 15  referee_firstName  15 non-null     object                              \n",
      " 16  referee_lastName   15 non-null     object                              \n",
      " 17  referee_knownAs    15 non-null     object                              \n",
      " 18  venue_name         15 non-null     object                              \n",
      " 19  venue_location     15 non-null     object                              \n",
      " 20  venue_timezone     15 non-null     object                              \n",
      " 21  attendance         15 non-null     int64                               \n",
      "dtypes: datetime64[ns, UTC](1), datetime64[ns, pytz.FixedOffset(60)](1), int64(7), object(13)\n",
      "memory usage: 2.7+ KB\n"
     ]
    }
   ],
   "source": [
    "dfMatches.info()"
   ]
  },
  {
   "cell_type": "markdown",
   "id": "e910b20c-ac97-4aec-b7c8-52adfb1f9035",
   "metadata": {},
   "source": [
    "## 2. Données temporelles avec Python"
   ]
  },
  {
   "cell_type": "markdown",
   "id": "4efbea04-e703-47aa-a31b-5f4229287e4b",
   "metadata": {},
   "source": [
    "### Construction à partir des composantes"
   ]
  },
  {
   "cell_type": "code",
   "execution_count": 5,
   "id": "8c89ea2f-4e59-4225-9045-f25e591f4528",
   "metadata": {},
   "outputs": [
    {
     "name": "stdout",
     "output_type": "stream",
     "text": [
      "2023-03-13\n"
     ]
    },
    {
     "data": {
      "text/plain": [
       "datetime.date(2023, 3, 13)"
      ]
     },
     "execution_count": 5,
     "metadata": {},
     "output_type": "execute_result"
    }
   ],
   "source": [
    "hier = date(2023,3,13)\n",
    "print(hier)\n",
    "hier"
   ]
  },
  {
   "cell_type": "code",
   "execution_count": 6,
   "id": "b126c249-4036-4eee-9006-b682dbc87d80",
   "metadata": {},
   "outputs": [
    {
     "name": "stdout",
     "output_type": "stream",
     "text": [
      "2023-03-13 17:30:00\n",
      "2023-03-13\n",
      "17:30:00\n",
      "2023\n",
      "3\n",
      "13\n",
      "17\n"
     ]
    },
    {
     "data": {
      "text/plain": [
       "datetime.datetime(2023, 3, 13, 17, 30)"
      ]
     },
     "execution_count": 6,
     "metadata": {},
     "output_type": "execute_result"
    }
   ],
   "source": [
    "hier_a_17h30 = datetime(2023,3,13,17,30)\n",
    "print(hier_a_17h30)\n",
    "print(hier_a_17h30.date())\n",
    "print(hier_a_17h30.time())\n",
    "print(hier_a_17h30.year)\n",
    "print(hier_a_17h30.month)\n",
    "print(hier_a_17h30.day)\n",
    "print(hier_a_17h30.hour)\n",
    "# etc...\n",
    "hier_a_17h30"
   ]
  },
  {
   "cell_type": "code",
   "execution_count": 7,
   "id": "de1f9250-d6c4-408a-bef2-6f03d1d9612d",
   "metadata": {},
   "outputs": [
    {
     "name": "stdout",
     "output_type": "stream",
     "text": [
      "07:15:00\n"
     ]
    },
    {
     "data": {
      "text/plain": [
       "datetime.time(7, 15)"
      ]
     },
     "execution_count": 7,
     "metadata": {},
     "output_type": "execute_result"
    }
   ],
   "source": [
    "heureLever = time(7,15)\n",
    "print(heureLever)\n",
    "heureLever"
   ]
  },
  {
   "cell_type": "markdown",
   "id": "e0b4f550-15fa-499e-adbc-67fe21423ee8",
   "metadata": {},
   "source": [
    "### Conversion texte <-> donnée temporelle avec format\n",
    "Doc ici sur les formats: https://docs.python.org/3/library/datetime.html#strftime-and-strptime-behavior"
   ]
  },
  {
   "cell_type": "code",
   "execution_count": 8,
   "id": "68921271-b254-40dc-918e-44d26b70af10",
   "metadata": {},
   "outputs": [],
   "source": [
    "dateIso = '2023-03-13'\n",
    "datetimeIso = '2020-02-29 18:05:04'\n",
    "dateFr = '29/02/2000'\n",
    "dateUs = '2/29/2000'"
   ]
  },
  {
   "cell_type": "code",
   "execution_count": 9,
   "id": "d40cf550-a7e1-4657-8438-1f9f9c8e4bee",
   "metadata": {},
   "outputs": [
    {
     "data": {
      "text/plain": [
       "datetime.date(2023, 3, 13)"
      ]
     },
     "execution_count": 9,
     "metadata": {},
     "output_type": "execute_result"
    }
   ],
   "source": [
    "date1 = date.fromisoformat(dateIso)\n",
    "date1"
   ]
  },
  {
   "cell_type": "code",
   "execution_count": 10,
   "id": "ce88fddd-088d-4d6b-bb42-427ac50324e8",
   "metadata": {},
   "outputs": [
    {
     "data": {
      "text/plain": [
       "datetime.datetime(2020, 2, 29, 18, 5, 4)"
      ]
     },
     "execution_count": 10,
     "metadata": {},
     "output_type": "execute_result"
    }
   ],
   "source": [
    "datetime1 = datetime.fromisoformat(datetimeIso)\n",
    "datetime1"
   ]
  },
  {
   "cell_type": "code",
   "execution_count": 11,
   "id": "31fcee18-7096-40b5-bc8d-02d72946e994",
   "metadata": {},
   "outputs": [
    {
     "data": {
      "text/plain": [
       "datetime.date(2000, 2, 29)"
      ]
     },
     "execution_count": 11,
     "metadata": {},
     "output_type": "execute_result"
    }
   ],
   "source": [
    "date2 = datetime.strptime(dateFr, '%d/%m/%Y').date()\n",
    "date2"
   ]
  },
  {
   "cell_type": "code",
   "execution_count": 12,
   "id": "194bf1bb-f00a-48b2-8e9e-eee86a69ac67",
   "metadata": {},
   "outputs": [
    {
     "data": {
      "text/plain": [
       "datetime.date(2000, 2, 29)"
      ]
     },
     "execution_count": 12,
     "metadata": {},
     "output_type": "execute_result"
    }
   ],
   "source": [
    "datetime.strptime(dateUs, '%m/%d/%Y').date()"
   ]
  },
  {
   "cell_type": "code",
   "execution_count": 13,
   "id": "5f26a108-3eac-4f2d-80ac-94baf5920e05",
   "metadata": {},
   "outputs": [],
   "source": [
    "# error pas de mois 29\n",
    "# datetime.strptime(dateUs, '%d/%m/%Y').date()\n",
    "\n",
    "# erreur sur les 29 février d'années non bissextiles\n",
    "# datetime.strptime('29/2/2023', '%d/%m/%Y').date()"
   ]
  },
  {
   "cell_type": "code",
   "execution_count": 14,
   "id": "09bae15c-03a8-4513-aab5-4368d4798a97",
   "metadata": {},
   "outputs": [
    {
     "name": "stdout",
     "output_type": "stream",
     "text": [
      "2020-02-29 18:05:04\n",
      "29/02/2020 18:05\n",
      "Formation a lieu le 29/02/2020 à 18:05\n"
     ]
    }
   ],
   "source": [
    "print(datetime1)  # ISO format par défaut\n",
    "print(datetime1.strftime('%d/%m/%Y %H:%M')) # FR format jusqu'aux minutes \n",
    "print(f\"Formation a lieu le {datetime1:%d/%m/%Y à %H:%M}\") # Format inside formatted string"
   ]
  },
  {
   "cell_type": "markdown",
   "id": "87410eac-f149-4332-a2fd-0c3c8f6c1514",
   "metadata": {},
   "source": [
    "## 3. Sélection temporelles avec Pandas"
   ]
  },
  {
   "cell_type": "code",
   "execution_count": 15,
   "id": "b7dfe6fd-ec8f-49f2-b287-35836a2c0d0b",
   "metadata": {},
   "outputs": [],
   "source": [
    "# Q1. extraire les matches du 11 mars 2023\n",
    "# TODO"
   ]
  },
  {
   "cell_type": "code",
   "execution_count": 16,
   "id": "45c9779d-b5d6-4f8f-91f7-5e4217658211",
   "metadata": {},
   "outputs": [],
   "source": [
    "# Q2. extraire les matches du 11 au 12 mars 2023\n",
    "# TODO"
   ]
  },
  {
   "cell_type": "code",
   "execution_count": 17,
   "id": "94793d8f-82d8-4c2b-a539-ab3e4ab851f7",
   "metadata": {},
   "outputs": [
    {
     "data": {
      "text/plain": [
       "0     2\n",
       "1     2\n",
       "2     2\n",
       "3     2\n",
       "4     2\n",
       "5     2\n",
       "6     2\n",
       "7     2\n",
       "8     2\n",
       "9     3\n",
       "10    3\n",
       "11    3\n",
       "12    3\n",
       "13    3\n",
       "14    3\n",
       "Name: datetime_paris, dtype: int64"
      ]
     },
     "execution_count": 17,
     "metadata": {},
     "output_type": "execute_result"
    }
   ],
   "source": [
    "# Q3. extraire les matches de mars\n",
    "# étape intermédiaire; extraire le mois\n",
    "dfMatches.datetime_paris.dt.month"
   ]
  },
  {
   "cell_type": "code",
   "execution_count": 18,
   "id": "9e7e7414-ae54-44bf-8095-1ee865efdf8d",
   "metadata": {},
   "outputs": [
    {
     "data": {
      "text/html": [
       "<div>\n",
       "<style scoped>\n",
       "    .dataframe tbody tr th:only-of-type {\n",
       "        vertical-align: middle;\n",
       "    }\n",
       "\n",
       "    .dataframe tbody tr th {\n",
       "        vertical-align: top;\n",
       "    }\n",
       "\n",
       "    .dataframe thead th {\n",
       "        text-align: right;\n",
       "    }\n",
       "</style>\n",
       "<table border=\"1\" class=\"dataframe\">\n",
       "  <thead>\n",
       "    <tr style=\"text-align: right;\">\n",
       "      <th></th>\n",
       "      <th>datetime_paris</th>\n",
       "      <th>teamA_name</th>\n",
       "      <th>teamB_name</th>\n",
       "      <th>score_teamA</th>\n",
       "      <th>score_teamB</th>\n",
       "    </tr>\n",
       "  </thead>\n",
       "  <tbody>\n",
       "    <tr>\n",
       "      <th>9</th>\n",
       "      <td>2023-03-11 15:15:00+01:00</td>\n",
       "      <td>Italie</td>\n",
       "      <td>Pays de Galles</td>\n",
       "      <td>17</td>\n",
       "      <td>29</td>\n",
       "    </tr>\n",
       "    <tr>\n",
       "      <th>10</th>\n",
       "      <td>2023-03-11 17:45:00+01:00</td>\n",
       "      <td>Angleterre</td>\n",
       "      <td>France</td>\n",
       "      <td>10</td>\n",
       "      <td>53</td>\n",
       "    </tr>\n",
       "    <tr>\n",
       "      <th>11</th>\n",
       "      <td>2023-03-12 16:00:00+01:00</td>\n",
       "      <td>Écosse</td>\n",
       "      <td>Irlande</td>\n",
       "      <td>7</td>\n",
       "      <td>22</td>\n",
       "    </tr>\n",
       "    <tr>\n",
       "      <th>12</th>\n",
       "      <td>2023-03-18 13:30:00+01:00</td>\n",
       "      <td>Écosse</td>\n",
       "      <td>Italie</td>\n",
       "      <td>0</td>\n",
       "      <td>0</td>\n",
       "    </tr>\n",
       "    <tr>\n",
       "      <th>13</th>\n",
       "      <td>2023-03-18 15:45:00+01:00</td>\n",
       "      <td>France</td>\n",
       "      <td>Pays de Galles</td>\n",
       "      <td>0</td>\n",
       "      <td>0</td>\n",
       "    </tr>\n",
       "    <tr>\n",
       "      <th>14</th>\n",
       "      <td>2023-03-18 18:00:00+01:00</td>\n",
       "      <td>Irlande</td>\n",
       "      <td>Angleterre</td>\n",
       "      <td>0</td>\n",
       "      <td>0</td>\n",
       "    </tr>\n",
       "  </tbody>\n",
       "</table>\n",
       "</div>"
      ],
      "text/plain": [
       "              datetime_paris  teamA_name      teamB_name  score_teamA  \\\n",
       "9  2023-03-11 15:15:00+01:00      Italie  Pays de Galles           17   \n",
       "10 2023-03-11 17:45:00+01:00  Angleterre          France           10   \n",
       "11 2023-03-12 16:00:00+01:00      Écosse         Irlande            7   \n",
       "12 2023-03-18 13:30:00+01:00      Écosse          Italie            0   \n",
       "13 2023-03-18 15:45:00+01:00      France  Pays de Galles            0   \n",
       "14 2023-03-18 18:00:00+01:00     Irlande      Angleterre            0   \n",
       "\n",
       "    score_teamB  \n",
       "9            29  \n",
       "10           53  \n",
       "11           22  \n",
       "12            0  \n",
       "13            0  \n",
       "14            0  "
      ]
     },
     "execution_count": 18,
     "metadata": {},
     "output_type": "execute_result"
    }
   ],
   "source": [
    "# match du mois de mars\n",
    "dfMatches.loc[\n",
    "    dfMatches.datetime_paris.dt.month == 3, \n",
    "    ['datetime_paris', 'teamA_name', 'teamB_name', 'score_teamA', 'score_teamB']\n",
    "]"
   ]
  },
  {
   "cell_type": "code",
   "execution_count": 19,
   "id": "e2621d1b-15d1-4d2a-a7b6-5a9fb54755ff",
   "metadata": {},
   "outputs": [
    {
     "data": {
      "text/html": [
       "<div>\n",
       "<style scoped>\n",
       "    .dataframe tbody tr th:only-of-type {\n",
       "        vertical-align: middle;\n",
       "    }\n",
       "\n",
       "    .dataframe tbody tr th {\n",
       "        vertical-align: top;\n",
       "    }\n",
       "\n",
       "    .dataframe thead th {\n",
       "        text-align: right;\n",
       "    }\n",
       "</style>\n",
       "<table border=\"1\" class=\"dataframe\">\n",
       "  <thead>\n",
       "    <tr style=\"text-align: right;\">\n",
       "      <th></th>\n",
       "      <th>datetime_paris</th>\n",
       "      <th>teamA_name</th>\n",
       "      <th>teamB_name</th>\n",
       "      <th>score_teamA</th>\n",
       "      <th>score_teamB</th>\n",
       "    </tr>\n",
       "  </thead>\n",
       "  <tbody>\n",
       "    <tr>\n",
       "      <th>9</th>\n",
       "      <td>2023-03-11 15:15:00+01:00</td>\n",
       "      <td>Italie</td>\n",
       "      <td>Pays de Galles</td>\n",
       "      <td>17</td>\n",
       "      <td>29</td>\n",
       "    </tr>\n",
       "    <tr>\n",
       "      <th>10</th>\n",
       "      <td>2023-03-11 17:45:00+01:00</td>\n",
       "      <td>Angleterre</td>\n",
       "      <td>France</td>\n",
       "      <td>10</td>\n",
       "      <td>53</td>\n",
       "    </tr>\n",
       "    <tr>\n",
       "      <th>11</th>\n",
       "      <td>2023-03-12 16:00:00+01:00</td>\n",
       "      <td>Écosse</td>\n",
       "      <td>Irlande</td>\n",
       "      <td>7</td>\n",
       "      <td>22</td>\n",
       "    </tr>\n",
       "  </tbody>\n",
       "</table>\n",
       "</div>"
      ],
      "text/plain": [
       "              datetime_paris  teamA_name      teamB_name  score_teamA  \\\n",
       "9  2023-03-11 15:15:00+01:00      Italie  Pays de Galles           17   \n",
       "10 2023-03-11 17:45:00+01:00  Angleterre          France           10   \n",
       "11 2023-03-12 16:00:00+01:00      Écosse         Irlande            7   \n",
       "\n",
       "    score_teamB  \n",
       "9            29  \n",
       "10           53  \n",
       "11           22  "
      ]
     },
     "execution_count": 19,
     "metadata": {},
     "output_type": "execute_result"
    }
   ],
   "source": [
    "# Q4. matches finis du mois de mars\n",
    "dfMatches.loc[\n",
    "    (dfMatches.datetime_paris.dt.month == 3) & (dfMatches.status == 'Res'), \n",
    "    ['datetime_paris', 'teamA_name', 'teamB_name', 'score_teamA', 'score_teamB']\n",
    "]"
   ]
  },
  {
   "cell_type": "code",
   "execution_count": 20,
   "id": "abeb8012-5605-4159-bb77-fb3778667018",
   "metadata": {},
   "outputs": [
    {
     "data": {
      "text/html": [
       "<div>\n",
       "<style scoped>\n",
       "    .dataframe tbody tr th:only-of-type {\n",
       "        vertical-align: middle;\n",
       "    }\n",
       "\n",
       "    .dataframe tbody tr th {\n",
       "        vertical-align: top;\n",
       "    }\n",
       "\n",
       "    .dataframe thead th {\n",
       "        text-align: right;\n",
       "    }\n",
       "</style>\n",
       "<table border=\"1\" class=\"dataframe\">\n",
       "  <thead>\n",
       "    <tr style=\"text-align: right;\">\n",
       "      <th></th>\n",
       "      <th>datetime_paris</th>\n",
       "      <th>teamA_name</th>\n",
       "      <th>teamB_name</th>\n",
       "      <th>score_teamA</th>\n",
       "      <th>score_teamB</th>\n",
       "    </tr>\n",
       "  </thead>\n",
       "  <tbody>\n",
       "    <tr>\n",
       "      <th>2</th>\n",
       "      <td>2023-02-05 16:00:00+01:00</td>\n",
       "      <td>Italie</td>\n",
       "      <td>France</td>\n",
       "      <td>24</td>\n",
       "      <td>29</td>\n",
       "    </tr>\n",
       "    <tr>\n",
       "      <th>3</th>\n",
       "      <td>2023-02-11 15:15:00+01:00</td>\n",
       "      <td>Irlande</td>\n",
       "      <td>France</td>\n",
       "      <td>32</td>\n",
       "      <td>19</td>\n",
       "    </tr>\n",
       "    <tr>\n",
       "      <th>8</th>\n",
       "      <td>2023-02-26 16:00:00+01:00</td>\n",
       "      <td>France</td>\n",
       "      <td>Écosse</td>\n",
       "      <td>32</td>\n",
       "      <td>21</td>\n",
       "    </tr>\n",
       "    <tr>\n",
       "      <th>10</th>\n",
       "      <td>2023-03-11 17:45:00+01:00</td>\n",
       "      <td>Angleterre</td>\n",
       "      <td>France</td>\n",
       "      <td>10</td>\n",
       "      <td>53</td>\n",
       "    </tr>\n",
       "    <tr>\n",
       "      <th>13</th>\n",
       "      <td>2023-03-18 15:45:00+01:00</td>\n",
       "      <td>France</td>\n",
       "      <td>Pays de Galles</td>\n",
       "      <td>0</td>\n",
       "      <td>0</td>\n",
       "    </tr>\n",
       "  </tbody>\n",
       "</table>\n",
       "</div>"
      ],
      "text/plain": [
       "              datetime_paris  teamA_name      teamB_name  score_teamA  \\\n",
       "2  2023-02-05 16:00:00+01:00      Italie          France           24   \n",
       "3  2023-02-11 15:15:00+01:00     Irlande          France           32   \n",
       "8  2023-02-26 16:00:00+01:00      France          Écosse           32   \n",
       "10 2023-03-11 17:45:00+01:00  Angleterre          France           10   \n",
       "13 2023-03-18 15:45:00+01:00      France  Pays de Galles            0   \n",
       "\n",
       "    score_teamB  \n",
       "2            29  \n",
       "3            19  \n",
       "8            21  \n",
       "10           53  \n",
       "13            0  "
      ]
     },
     "execution_count": 20,
     "metadata": {},
     "output_type": "execute_result"
    }
   ],
   "source": [
    "# Q5. matches de l'équipe de France\n",
    "dfMatchesFrance = dfMatches.loc[\n",
    "    (dfMatches.teamA_name == 'France') | (dfMatches.teamB_name == 'France'),\n",
    "    ['datetime_paris', 'teamA_name', 'teamB_name', 'score_teamA', 'score_teamB']\n",
    "]\n",
    "dfMatchesFrance"
   ]
  },
  {
   "cell_type": "code",
   "execution_count": 21,
   "id": "1087a87e-e02d-424c-aa79-294d60d113f0",
   "metadata": {},
   "outputs": [
    {
     "data": {
      "text/plain": [
       "Timedelta('5 days 23:15:00')"
      ]
     },
     "execution_count": 21,
     "metadata": {},
     "output_type": "execute_result"
    }
   ],
   "source": [
    "# Différence de temps entre les 2 premiers matches\n",
    "dfMatchesFrance.loc[3, 'datetime_paris'] - dfMatchesFrance.loc[2, 'datetime_paris']"
   ]
  }
 ],
 "metadata": {
  "kernelspec": {
   "display_name": "Python 3 (ipykernel)",
   "language": "python",
   "name": "python3"
  },
  "language_info": {
   "codemirror_mode": {
    "name": "ipython",
    "version": 3
   },
   "file_extension": ".py",
   "mimetype": "text/x-python",
   "name": "python",
   "nbconvert_exporter": "python",
   "pygments_lexer": "ipython3",
   "version": "3.9.12"
  }
 },
 "nbformat": 4,
 "nbformat_minor": 5
}
